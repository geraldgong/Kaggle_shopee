{
  "nbformat": 4,
  "nbformat_minor": 0,
  "metadata": {
    "colab": {
      "name": "shopee_gpu.ipynb",
      "provenance": [],
      "collapsed_sections": [],
      "toc_visible": true,
      "machine_shape": "hm",
      "authorship_tag": "ABX9TyMuVUWFnkhFt4zIaotIp7qT"
    },
    "kernelspec": {
      "name": "python3",
      "display_name": "Python 3"
    },
    "accelerator": "GPU"
  },
  "cells": [
    {
      "cell_type": "markdown",
      "metadata": {
        "id": "DDY25bjjOpSE"
      },
      "source": [
        "# Initialization"
      ]
    },
    {
      "cell_type": "code",
      "metadata": {
        "id": "1UIwGlQFOmTt",
        "colab": {
          "base_uri": "https://localhost:8080/"
        },
        "outputId": "9c4ee0ee-9682-43c4-f427-345f132c7b02"
      },
      "source": [
        "!nvidia-smi"
      ],
      "execution_count": 3,
      "outputs": [
        {
          "output_type": "stream",
          "text": [
            "Sat Mar 20 16:19:12 2021       \n",
            "+-----------------------------------------------------------------------------+\n",
            "| NVIDIA-SMI 460.56       Driver Version: 460.32.03    CUDA Version: 11.2     |\n",
            "|-------------------------------+----------------------+----------------------+\n",
            "| GPU  Name        Persistence-M| Bus-Id        Disp.A | Volatile Uncorr. ECC |\n",
            "| Fan  Temp  Perf  Pwr:Usage/Cap|         Memory-Usage | GPU-Util  Compute M. |\n",
            "|                               |                      |               MIG M. |\n",
            "|===============================+======================+======================|\n",
            "|   0  Tesla P100-PCIE...  Off  | 00000000:00:04.0 Off |                    0 |\n",
            "| N/A   47C    P0    30W / 250W |      0MiB / 16280MiB |      0%      Default |\n",
            "|                               |                      |                  N/A |\n",
            "+-------------------------------+----------------------+----------------------+\n",
            "                                                                               \n",
            "+-----------------------------------------------------------------------------+\n",
            "| Processes:                                                                  |\n",
            "|  GPU   GI   CI        PID   Type   Process name                  GPU Memory |\n",
            "|        ID   ID                                                   Usage      |\n",
            "|=============================================================================|\n",
            "|  No running processes found                                                 |\n",
            "+-----------------------------------------------------------------------------+\n"
          ],
          "name": "stdout"
        }
      ]
    },
    {
      "cell_type": "code",
      "metadata": {
        "id": "vrx_9WH8PwfG"
      },
      "source": [
        "# Install RAPIDS\n",
        "!git clone https://github.com/rapidsai/rapidsai-csp-utils.git\n",
        "!bash rapidsai-csp-utils/colab/rapids-colab.sh stable\n",
        "\n",
        "import sys, os\n",
        "\n",
        "dist_package_index = sys.path.index('/usr/local/lib/python3.7/dist-packages')\n",
        "sys.path = sys.path[:dist_package_index] + ['/usr/local/lib/python3.7/site-packages'] + sys.path[dist_package_index:]\n",
        "sys.path\n",
        "exec(open('rapidsai-csp-utils/colab/update_modules.py').read(), globals())"
      ],
      "execution_count": null,
      "outputs": []
    },
    {
      "cell_type": "code",
      "metadata": {
        "id": "mKn6PvkPCVM5",
        "colab": {
          "base_uri": "https://localhost:8080/"
        },
        "outputId": "b0c6f372-3e1f-4656-ad43-3fa21f92bcf1"
      },
      "source": [
        "from google.colab import drive\n",
        "drive.mount('/content/drive')"
      ],
      "execution_count": 5,
      "outputs": [
        {
          "output_type": "stream",
          "text": [
            "Mounted at /content/drive\n"
          ],
          "name": "stdout"
        }
      ]
    },
    {
      "cell_type": "markdown",
      "metadata": {
        "id": "0PXMAAo4Ob9W"
      },
      "source": [
        "## Download Kaggle Data"
      ]
    },
    {
      "cell_type": "code",
      "metadata": {
        "id": "6TRfrQpqQh4L"
      },
      "source": [
        "# Download data and move to Google Drive\n",
        "!pip install -q kaggle\n",
        "from google.colab import files\n",
        "files.upload()\n",
        "\n",
        "!mkdir ~/.kaggle\n",
        "!cp kaggle.json ~/.kaggle/\n",
        "!chmod 600 ~/.kaggle/kaggle.json\n",
        "!kaggle competitions download -c shopee-product-matching\n",
        "!mv shopee-product-matching.zip ./drive/MyDrive/data/"
      ],
      "execution_count": null,
      "outputs": []
    },
    {
      "cell_type": "code",
      "metadata": {
        "id": "YVLG6xYNrhsm"
      },
      "source": [
        "# Copy from Google Drive and unzip\n",
        "!cp ./drive/MyDrive/data/shopee-product-matching.zip ./\n",
        "!unzip -q shopee-product-matching.zip\n",
        "!rm shopee-product-matching.zip"
      ],
      "execution_count": 42,
      "outputs": []
    },
    {
      "cell_type": "markdown",
      "metadata": {
        "id": "l3O88-z7O2f6"
      },
      "source": [
        "## Import Packages"
      ]
    },
    {
      "cell_type": "code",
      "metadata": {
        "id": "9OdpNGzkP_zc"
      },
      "source": [
        "import tensorflow as tf\n",
        "import tensorflow_hub as hub\n",
        "from tensorflow.keras import layers, Model\n",
        "from tensorflow.keras.applications import EfficientNetB0\n",
        "from cuml.neighbors import NearestNeighbors\n",
        "from cuml.feature_extraction.text import TfidfVectorizer\n",
        "from cuml.cluster import DBSCAN\n",
        "import gc\n",
        "import pandas as pd\n",
        "import numpy as np\n",
        "import cudf, cuml, cupy\n",
        "import pickle"
      ],
      "execution_count": 85,
      "outputs": []
    },
    {
      "cell_type": "code",
      "metadata": {
        "id": "lcFptIELQbTt",
        "colab": {
          "base_uri": "https://localhost:8080/"
        },
        "outputId": "fe199850-a0ef-4cbf-ac5c-5fc8f554873d"
      },
      "source": [
        "AUTOTUNE = tf.data.experimental.AUTOTUNE\n",
        "SEED = 100\n",
        "BATCH_SIZE =32\n",
        "CHUNK_SIZE = 4096\n",
        "IMAGE_HEIGHT = 256\n",
        "IMAGE_WIDTH = 256\n",
        "LIMIT = 2.0\n",
        "physical_devices = tf.config.list_physical_devices('GPU')\n",
        "print(\"Num GPUs:\", len(physical_devices))\n",
        "\n",
        "if physical_devices:\n",
        "  tf.config.experimental.set_virtual_device_configuration(\n",
        "      physical_devices[0],\n",
        "      [tf.config.experimental.VirtualDeviceConfiguration(memory_limit=1024*LIMIT)])\n",
        "  print('TensorFlow usage is restricted to max %iGB GPU RAM'%LIMIT)"
      ],
      "execution_count": 44,
      "outputs": [
        {
          "output_type": "stream",
          "text": [
            "Num GPUs: 1\n",
            "TensorFlow usage is restricted to max 2GB GPU RAM\n"
          ],
          "name": "stdout"
        }
      ]
    },
    {
      "cell_type": "markdown",
      "metadata": {
        "id": "1CpxXtUgPD17"
      },
      "source": [
        "# Process Data"
      ]
    },
    {
      "cell_type": "code",
      "metadata": {
        "id": "_z9VmKGTfxpx"
      },
      "source": [
        "def preprocess_image(image):\n",
        "    image = tf.image.decode_jpeg(image, channels=3)\n",
        "    image = tf.image.resize(image, [IMAGE_WIDTH, IMAGE_HEIGHT])\n",
        "#     image /= 255  # normalize to [0,1] rangeI'm not a \n",
        "    return image\n",
        "\n",
        "def load_and_preprocess_image(path):\n",
        "    image = tf.io.read_file(path)\n",
        "    return preprocess_image(image)\n",
        "\n",
        "def augmentation(ds):\n",
        "    data_augmentation = tf.keras.Sequential([\n",
        "      tf.keras.layers.experimental.preprocessing.RandomFlip(\"horizontal\"),\n",
        "      layers.experimental.preprocessing.RandomRotation(0.3),\n",
        "      layers.experimental.preprocessing.RandomTranslation(\n",
        "          height_factor=(-0.2, 0.2), width_factor=(-0.2, 0.2)),\n",
        "      layers.experimental.preprocessing.RandomZoom(0.2, 0.2),\n",
        "    ])\n",
        "    \n",
        "    # Batch all datasets\n",
        "    ds = ds.batch(BATCH_SIZE)\n",
        "\n",
        "    # Use data augmentation only on the training set\n",
        "    ds = ds.map(lambda x: data_augmentation(x))\n",
        "\n",
        "    # Prefecting on all datasets\n",
        "    return ds.prefetch(1)\n",
        "\n",
        "def prepare_data(df, augment=False):\n",
        "    # Load images\n",
        "    path_ds = tf.data.Dataset.from_tensor_slices(df['image_paths'])\n",
        "    image_ds = path_ds.map(load_and_preprocess_image, num_parallel_calls=AUTOTUNE)\n",
        "\n",
        "    if augment:\n",
        "        ds = augmentation(image_ds)\n",
        "    else:\n",
        "        ds = image_ds.batch(BATCH_SIZE).prefetch(1)\n",
        "    \n",
        "    return ds"
      ],
      "execution_count": 8,
      "outputs": []
    },
    {
      "cell_type": "code",
      "metadata": {
        "id": "ly3wRLopf2Tp"
      },
      "source": [
        "load_dir = os.getcwd()\n",
        "# Load and process images\n",
        "df_train = pd.read_csv(load_dir + '/train.csv')\n",
        "df_train['image_paths'] = load_dir + '/train_images/' + df_train['image'] \n",
        "\n",
        "# Ground truth\n",
        "tmp = df_train.groupby('label_group').posting_id.agg('unique').to_dict()\n",
        "df_train['target'] = df_train.label_group.map(tmp)\n",
        "\n",
        "# Duplicate train set for runtime testing \n",
        "# df_train = pd.concat([df_train, df_train], ignore_index=True)\n",
        "train_ds = prepare_data(df_train, augment=False)"
      ],
      "execution_count": 47,
      "outputs": []
    },
    {
      "cell_type": "markdown",
      "metadata": {
        "id": "zJ-2RN2wg8EJ"
      },
      "source": [
        "# Embeddings"
      ]
    },
    {
      "cell_type": "code",
      "metadata": {
        "id": "1pJoEvr6tWeg"
      },
      "source": [
        "def find_similar_items(embeddings, threshold, fine_tune=False):\n",
        "  \"\"\"\n",
        "  Using Nearest Neighbors to figure out similar items\n",
        "  \"\"\"\n",
        "  knn = NearestNeighbors(n_neighbors=50)\n",
        "  knn.fit(embeddings)\n",
        "\n",
        "  num_chunk = round(embeddings.shape[0] / CHUNK_SIZE)\n",
        "  item_index = []\n",
        "  for i in range(num_chunk+1):\n",
        "    start_idx = i * CHUNK_SIZE                  \n",
        "    end_idx = min((i + 1) * CHUNK_SIZE, embeddings.shape[0])\n",
        "    if not fine_tune:\n",
        "      print('Chunk', start_idx, 'to', end_idx) \n",
        "\n",
        "    dist, idx = knn.kneighbors(embeddings[start_idx:end_idx, :])\n",
        "    counts = (dist < threshold).sum(axis=1)\n",
        "    chunk_index = [idx[i, :counts[i]].tolist() for i in range(end_idx - start_idx)]\n",
        "    item_index += chunk_index\n",
        "\n",
        "  return item_index"
      ],
      "execution_count": 48,
      "outputs": []
    },
    {
      "cell_type": "markdown",
      "metadata": {
        "id": "9e9wXuNMusDp"
      },
      "source": [
        "## Image Embedding"
      ]
    },
    {
      "cell_type": "code",
      "metadata": {
        "id": "DbbSumnkgtrB",
        "colab": {
          "base_uri": "https://localhost:8080/"
        },
        "outputId": "936a1cb0-e5c3-4d70-c993-46ad444eac63"
      },
      "source": [
        "# Image embedding\n",
        "effnet = EfficientNetB0(weights='imagenet', include_top=False, pooling='avg', input_shape=None)\n",
        "embeddings_image = effnet.predict(train_ds, verbose=1)\n",
        "\n",
        "del effnet\n",
        "_ = gc.collect()"
      ],
      "execution_count": 86,
      "outputs": [
        {
          "output_type": "stream",
          "text": [
            "Downloading data from https://storage.googleapis.com/keras-applications/efficientnetb0_notop.h5\n",
            "16711680/16705208 [==============================] - 0s 0us/step\n",
            "1071/1071 [==============================] - 55s 50ms/step\n"
          ],
          "name": "stdout"
        }
      ]
    },
    {
      "cell_type": "code",
      "metadata": {
        "id": "LIHko6DCcOCi"
      },
      "source": [
        "  knn = NearestNeighbors(n_neighbors=50)\n",
        "  knn.fit(embeddings_image)\n",
        "  dist, idx = knn.kneighbors(embeddings_image)"
      ],
      "execution_count": 107,
      "outputs": []
    },
    {
      "cell_type": "code",
      "metadata": {
        "id": "4TQ7-WBkjmJI",
        "outputId": "f0cd24f1-7150-43d3-ca2e-992ebbfbd691",
        "colab": {
          "base_uri": "https://localhost:8080/"
        }
      },
      "source": [
        "plt.figure(figsize=(10, 10))\n",
        "for i, image_path, in enumerate(df_train['image_paths'][:9]):\n",
        "    plt.subplot(3, 3, i + 1)\n",
        "    image = tf.io.read_file(image_path)\n",
        "    image = preprocess_image(image)\n",
        "    plt.imshow(image)\n",
        "plt.show()"
      ],
      "execution_count": 108,
      "outputs": [
        {
          "output_type": "execute_result",
          "data": {
            "text/plain": [
              "(34250, 50)"
            ]
          },
          "metadata": {
            "tags": []
          },
          "execution_count": 108
        }
      ]
    },
    {
      "cell_type": "code",
      "metadata": {
        "id": "WqseCyvtj6wC",
        "outputId": "95d275b3-67ab-40d0-a16a-ad17072da268",
        "colab": {
          "base_uri": "https://localhost:8080/",
          "height": 1000
        }
      },
      "source": [
        "df_train[df_train.f1 < 0.5] "
      ],
      "execution_count": 113,
      "outputs": [
        {
          "output_type": "execute_result",
          "data": {
            "text/html": [
              "<div>\n",
              "<style scoped>\n",
              "    .dataframe tbody tr th:only-of-type {\n",
              "        vertical-align: middle;\n",
              "    }\n",
              "\n",
              "    .dataframe tbody tr th {\n",
              "        vertical-align: top;\n",
              "    }\n",
              "\n",
              "    .dataframe thead th {\n",
              "        text-align: right;\n",
              "    }\n",
              "</style>\n",
              "<table border=\"1\" class=\"dataframe\">\n",
              "  <thead>\n",
              "    <tr style=\"text-align: right;\">\n",
              "      <th></th>\n",
              "      <th>posting_id</th>\n",
              "      <th>image</th>\n",
              "      <th>image_phash</th>\n",
              "      <th>title</th>\n",
              "      <th>label_group</th>\n",
              "      <th>image_paths</th>\n",
              "      <th>target</th>\n",
              "      <th>matches</th>\n",
              "      <th>f1</th>\n",
              "    </tr>\n",
              "  </thead>\n",
              "  <tbody>\n",
              "    <tr>\n",
              "      <th>3</th>\n",
              "      <td>train_2406599165</td>\n",
              "      <td>00117e4fc239b1b641ff08340b429633.jpg</td>\n",
              "      <td>8514fc58eafea283</td>\n",
              "      <td>Daster Batik Lengan pendek - Motif Acak / Camp...</td>\n",
              "      <td>4093212188</td>\n",
              "      <td>/content/train_images/00117e4fc239b1b641ff0834...</td>\n",
              "      <td>[train_2406599165, train_3342059966]</td>\n",
              "      <td>train_1744956981 train_2043094887 train_150810...</td>\n",
              "      <td>0.222222</td>\n",
              "    </tr>\n",
              "    <tr>\n",
              "      <th>22</th>\n",
              "      <td>train_1396146683</td>\n",
              "      <td>0035b8fc42955c0fa2301b68e2ffe861.jpg</td>\n",
              "      <td>d5c0caa0aeb3b23e</td>\n",
              "      <td>CHOCO BALL LAGIE COKLAT Lagie Grosir Cokelat L...</td>\n",
              "      <td>4240123481</td>\n",
              "      <td>/content/train_images/0035b8fc42955c0fa2301b68...</td>\n",
              "      <td>[train_1396146683, train_2843292969, train_422...</td>\n",
              "      <td>train_2382901010 train_3433558650 train_139614...</td>\n",
              "      <td>0.285714</td>\n",
              "    </tr>\n",
              "    <tr>\n",
              "      <th>24</th>\n",
              "      <td>train_1872347548</td>\n",
              "      <td>003906c6c6bba4cde15e5e854dba8f6d.jpg</td>\n",
              "      <td>f3e18c5ea14493e3</td>\n",
              "      <td>Stand Hanger Multifungsi - Tiang Gantungan Baj...</td>\n",
              "      <td>4044205497</td>\n",
              "      <td>/content/train_images/003906c6c6bba4cde15e5e85...</td>\n",
              "      <td>[train_1872347548, train_998519723, train_1760...</td>\n",
              "      <td>train_1872347548</td>\n",
              "      <td>0.250000</td>\n",
              "    </tr>\n",
              "    <tr>\n",
              "      <th>26</th>\n",
              "      <td>train_2905529497</td>\n",
              "      <td>003c7129aef72ad3ae8af64eac5bfd29.jpg</td>\n",
              "      <td>ce4e2d3570721ab5</td>\n",
              "      <td>Masker Medis 3ply Earloop (50pcs) - Masker 3pl...</td>\n",
              "      <td>2034299767</td>\n",
              "      <td>/content/train_images/003c7129aef72ad3ae8af64e...</td>\n",
              "      <td>[train_2905529497, train_869563964]</td>\n",
              "      <td>train_2842980767 train_3020446014 train_290552...</td>\n",
              "      <td>0.400000</td>\n",
              "    </tr>\n",
              "    <tr>\n",
              "      <th>38</th>\n",
              "      <td>train_4146813717</td>\n",
              "      <td>005a507afe7092537e4c6243c4e0d790.jpg</td>\n",
              "      <td>e69999668c663399</td>\n",
              "      <td>Soti Antiseptic Spray 100ml</td>\n",
              "      <td>3816307840</td>\n",
              "      <td>/content/train_images/005a507afe7092537e4c6243...</td>\n",
              "      <td>[train_4146813717, train_2095066661, train_257...</td>\n",
              "      <td>train_3615094030 train_2672786546 train_365410...</td>\n",
              "      <td>0.150000</td>\n",
              "    </tr>\n",
              "    <tr>\n",
              "      <th>...</th>\n",
              "      <td>...</td>\n",
              "      <td>...</td>\n",
              "      <td>...</td>\n",
              "      <td>...</td>\n",
              "      <td>...</td>\n",
              "      <td>...</td>\n",
              "      <td>...</td>\n",
              "      <td>...</td>\n",
              "      <td>...</td>\n",
              "    </tr>\n",
              "    <tr>\n",
              "      <th>34215</th>\n",
              "      <td>train_2079568096</td>\n",
              "      <td>ffb355e7707313dac74d60b5d13d2d4e.jpg</td>\n",
              "      <td>f841cf6bcc4a850f</td>\n",
              "      <td>EPSON 664 - TINTA BOTOL ORIGINAL EPSON 70ML UN...</td>\n",
              "      <td>1518626050</td>\n",
              "      <td>/content/train_images/ffb355e7707313dac74d60b5...</td>\n",
              "      <td>[train_829584474, train_2079568096]</td>\n",
              "      <td>train_2079568096 train_3392119229 train_235202...</td>\n",
              "      <td>0.400000</td>\n",
              "    </tr>\n",
              "    <tr>\n",
              "      <th>34218</th>\n",
              "      <td>train_3349791994</td>\n",
              "      <td>ffb9b59c7669c781847fba7499bd7699.jpg</td>\n",
              "      <td>f4ce05c51f71705a</td>\n",
              "      <td>LACHEL VITAMIN C LACHEL VIT C GLUTA FROZEN COL...</td>\n",
              "      <td>1911010635</td>\n",
              "      <td>/content/train_images/ffb9b59c7669c781847fba74...</td>\n",
              "      <td>[train_150841277, train_4099484977, train_2689...</td>\n",
              "      <td>train_3349791994</td>\n",
              "      <td>0.285714</td>\n",
              "    </tr>\n",
              "    <tr>\n",
              "      <th>34221</th>\n",
              "      <td>train_2918683619</td>\n",
              "      <td>ffbf2266ff17f4bc336002a00d82b647.jpg</td>\n",
              "      <td>afde42252f25c992</td>\n",
              "      <td>Sticker Star Wall Glow In The Dark | Stiker Bi...</td>\n",
              "      <td>3251156563</td>\n",
              "      <td>/content/train_images/ffbf2266ff17f4bc336002a0...</td>\n",
              "      <td>[train_1774249647, train_2918683619]</td>\n",
              "      <td>train_2486599982 train_1020260882 train_295591...</td>\n",
              "      <td>0.200000</td>\n",
              "    </tr>\n",
              "    <tr>\n",
              "      <th>34235</th>\n",
              "      <td>train_3668806308</td>\n",
              "      <td>ffdd054398884b04bdab9e41d30c7fb2.jpg</td>\n",
              "      <td>9ba6cc38a4a792f1</td>\n",
              "      <td>MAYCREATE MOISTURIZING SPRAY 150ML(1KG 6PCS)  ...</td>\n",
              "      <td>1141798720</td>\n",
              "      <td>/content/train_images/ffdd054398884b04bdab9e41...</td>\n",
              "      <td>[train_3497907844, train_4175229751, train_293...</td>\n",
              "      <td>train_1799291694 train_112182868 train_3668806...</td>\n",
              "      <td>0.210526</td>\n",
              "    </tr>\n",
              "    <tr>\n",
              "      <th>34244</th>\n",
              "      <td>train_945815402</td>\n",
              "      <td>fff1222750374ddbed82b17c8bd2766d.jpg</td>\n",
              "      <td>b0cbce308fcdcc64</td>\n",
              "      <td>Baterai Batre Battery Xiaomi Redmi Note 3 BM46...</td>\n",
              "      <td>3091541662</td>\n",
              "      <td>/content/train_images/fff1222750374ddbed82b17c...</td>\n",
              "      <td>[train_601331882, train_945815402]</td>\n",
              "      <td>train_2596276571 train_4126053301 train_293389...</td>\n",
              "      <td>0.285714</td>\n",
              "    </tr>\n",
              "  </tbody>\n",
              "</table>\n",
              "<p>5519 rows × 9 columns</p>\n",
              "</div>"
            ],
            "text/plain": [
              "             posting_id  ...        f1\n",
              "3      train_2406599165  ...  0.222222\n",
              "22     train_1396146683  ...  0.285714\n",
              "24     train_1872347548  ...  0.250000\n",
              "26     train_2905529497  ...  0.400000\n",
              "38     train_4146813717  ...  0.150000\n",
              "...                 ...  ...       ...\n",
              "34215  train_2079568096  ...  0.400000\n",
              "34218  train_3349791994  ...  0.285714\n",
              "34221  train_2918683619  ...  0.200000\n",
              "34235  train_3668806308  ...  0.210526\n",
              "34244   train_945815402  ...  0.285714\n",
              "\n",
              "[5519 rows x 9 columns]"
            ]
          },
          "metadata": {
            "tags": []
          },
          "execution_count": 113
        }
      ]
    },
    {
      "cell_type": "code",
      "metadata": {
        "id": "25Mm5itncl_c",
        "outputId": "34f8df35-dc4c-4086-a400-5eae6108c469",
        "colab": {
          "base_uri": "https://localhost:8080/",
          "height": 1000
        }
      },
      "source": [
        "import matplotlib.pyplot as plt\n",
        "for i in range(179, 185):\n",
        "  plt.scatter(np.arange(0,50), dist[i], marker='.')\n",
        "  plt.show()"
      ],
      "execution_count": 106,
      "outputs": [
        {
          "output_type": "display_data",
          "data": {
            "image/png": "[encoded data removed]",
            "text/plain": [
              "<Figure size 432x288 with 1 Axes>"
            ]
          },
          "metadata": {
            "tags": [],
            "needs_background": "light"
          }
        },
        {
          "output_type": "display_data",
          "data": {
            "image/png": "[encoded data removed]",
            "text/plain": [
              "<Figure size 432x288 with 1 Axes>"
            ]
          },
          "metadata": {
            "tags": [],
            "needs_background": "light"
          }
        },
        {
          "output_type": "display_data",
          "data": {
            "image/png": "[encoded data removed]",
            "text/plain": [
              "<Figure size 432x288 with 1 Axes>"
            ]
          },
          "metadata": {
            "tags": [],
            "needs_background": "light"
          }
        },
        {
          "output_type": "display_data",
          "data": {
            "image/png": "[encoded data removed]",
            "text/plain": [
              "<Figure size 432x288 with 1 Axes>"
            ]
          },
          "metadata": {
            "tags": [],
            "needs_background": "light"
          }
        },
        {
          "output_type": "display_data",
          "data": {
            "image/png": "[encoded data removed]",
            "text/plain": [
              "<Figure size 432x288 with 1 Axes>"
            ]
          },
          "metadata": {
            "tags": [],
            "needs_background": "light"
          }
        },
        {
          "output_type": "display_data",
          "data": {
            "image/png": "[encoded data removed]",
            "text/plain": [
              "<Figure size 432x288 with 1 Axes>"
            ]
          },
          "metadata": {
            "tags": [],
            "needs_background": "light"
          }
        }
      ]
    },
    {
      "cell_type": "code",
      "metadata": {
        "id": "DAnYUhgp1Yfp",
        "colab": {
          "base_uri": "https://localhost:8080/"
        },
        "outputId": "724cb1eb-221d-487a-8fe8-d43cb729b7fb"
      },
      "source": [
        "# Similiar images\n",
        "image_index = find_similar_items(embeddings_image, 6.8)"
      ],
      "execution_count": 87,
      "outputs": [
        {
          "output_type": "stream",
          "text": [
            "Chunk 0 to 4096\n",
            "Chunk 4096 to 8192\n",
            "Chunk 8192 to 12288\n",
            "Chunk 12288 to 16384\n",
            "Chunk 16384 to 20480\n",
            "Chunk 20480 to 24576\n",
            "Chunk 24576 to 28672\n",
            "Chunk 28672 to 32768\n",
            "Chunk 32768 to 34250\n"
          ],
          "name": "stdout"
        }
      ]
    },
    {
      "cell_type": "markdown",
      "metadata": {
        "id": "iNcCeKEnuw2u"
      },
      "source": [
        "## Text Embedding"
      ]
    },
    {
      "cell_type": "code",
      "metadata": {
        "id": "MSGb3MjPiQOb"
      },
      "source": [
        "# Text embedding\n",
        "cudf_train = cudf.DataFrame(df_train)\n",
        "sentences = cudf_train.title\n",
        "vectorizer = TfidfVectorizer(binary=True, max_features=15000)\n",
        "embeddings_text = vectorizer.fit_transform(sentences).toarray()\n",
        "\n",
        "del sentences, vectorizer\n",
        "_ = gc.collect()"
      ],
      "execution_count": 88,
      "outputs": []
    },
    {
      "cell_type": "code",
      "metadata": {
        "id": "1a2LwjNUwk7p",
        "colab": {
          "base_uri": "https://localhost:8080/"
        },
        "outputId": "3ef42de7-94af-4930-e3ee-bca50e2b7a42"
      },
      "source": [
        "# Similar texts\n",
        "text_index = find_similar_items(embeddings_text, 0.8)"
      ],
      "execution_count": 89,
      "outputs": [
        {
          "output_type": "stream",
          "text": [
            "Chunk 0 to 4096\n",
            "Chunk 4096 to 8192\n",
            "Chunk 8192 to 12288\n",
            "Chunk 12288 to 16384\n",
            "Chunk 16384 to 20480\n",
            "Chunk 20480 to 24576\n",
            "Chunk 24576 to 28672\n",
            "Chunk 28672 to 32768\n",
            "Chunk 32768 to 34250\n"
          ],
          "name": "stdout"
        }
      ]
    },
    {
      "cell_type": "markdown",
      "metadata": {
        "id": "6ps0OTSuvk0M"
      },
      "source": [
        "# Evaluation"
      ]
    },
    {
      "cell_type": "code",
      "metadata": {
        "id": "qcFH0yMYv12s",
        "colab": {
          "base_uri": "https://localhost:8080/"
        },
        "outputId": "b2130ad5-a719-4ddd-db8a-60bb4330258b"
      },
      "source": [
        "def row_wise_f1_score(y_true, y_pred):\n",
        "\n",
        "    y_true = y_true.apply(lambda x: set(x))\n",
        "    y_pred = y_pred.apply(lambda x: set(x.split()))\n",
        "\n",
        "    tp = np.array([len(x[0] & x[1]) for x in zip(y_true, y_pred)])\n",
        "    fp = y_pred.apply(lambda x: len(x)).values - tp\n",
        "    fn = y_true.apply(lambda x: len(x)).values - tp\n",
        "\n",
        "    precision = tp / (tp + fp)\n",
        "    recall = tp / (tp + fn)\n",
        "    f1 = 2 * ((precision * recall) / (precision + recall))\n",
        "    return f1\n",
        "\n",
        "def evaluation(df_data, image_index, text_index):\n",
        "  df_data['matches'] = [\n",
        "      ' '.join(\n",
        "          set(df_data['posting_id'][text].tolist() +\n",
        "              df_data['posting_id'][image].tolist()))\n",
        "      for text, image in zip(text_index, image_index)\n",
        "  ]\n",
        "\n",
        "  df_data['f1'] = row_wise_f1_score(df_data['target'], df_data['matches'])\n",
        "  return df_data['f1'].mean()\n",
        "\n",
        "print('f1-score:', evaluation(df_train, image_index, text_index))"
      ],
      "execution_count": 90,
      "outputs": [
        {
          "output_type": "stream",
          "text": [
            "f1-score: 0.7352807029236548\n"
          ],
          "name": "stdout"
        }
      ]
    },
    {
      "cell_type": "markdown",
      "metadata": {
        "id": "PolIT_BXvPLg"
      },
      "source": [
        "## Fine-tuning"
      ]
    },
    {
      "cell_type": "code",
      "metadata": {
        "id": "FLqN_BZhvFWl"
      },
      "source": [
        "def parameter_tuning(df_data, embeddings_image, embeddings_text, \n",
        "                     threshold_image, threshold_text):\n",
        "  \n",
        "    image_index = find_similar_items(embeddings_image, threshold_image, fine_tune=True)\n",
        "    text_index = find_similar_items(embeddings_text, threshold_text, fine_tune=True)\n",
        "    f1_score = evaluation(df_data, image_index, text_index)\n",
        "    print('threshold_image: {}, threshold_text: {}, f1-score: {}'.format(round(threshold_image, 2), round(threshold_text, 2), round(f1_score, 4)))\n",
        "\n",
        "    return f1_score"
      ],
      "execution_count": 91,
      "outputs": []
    },
    {
      "cell_type": "code",
      "metadata": {
        "colab": {
          "base_uri": "https://localhost:8080/"
        },
        "id": "DZTpftt24vjU",
        "outputId": "9f547976-754e-4202-c2d7-eda297f79b4d"
      },
      "source": [
        "results = {}\n",
        "for i in np.arange(6.5, 7, .1):\n",
        "  for j in np.arange(0.8, 0.88, 0.01):\n",
        "    f1 = parameter_tuning(df_train, embeddings_image, embeddings_text, i, j)\n",
        "    results[(round(i,2), round(j,2))] = f1\n",
        "\n",
        "print('The best thresholds are {}, yield a f1-score of {}'.format(max(results, key=results.get), max(results.values())))"
      ],
      "execution_count": 94,
      "outputs": [
        {
          "output_type": "stream",
          "text": [
            "threshold_image: 6.5, threshold_text: 0.8, f1-score: 0.7364\n",
            "threshold_image: 6.5, threshold_text: 0.81, f1-score: 0.7372\n",
            "threshold_image: 6.5, threshold_text: 0.82, f1-score: 0.7377\n",
            "threshold_image: 6.5, threshold_text: 0.83, f1-score: 0.7386\n",
            "threshold_image: 6.5, threshold_text: 0.84, f1-score: 0.739\n",
            "threshold_image: 6.5, threshold_text: 0.85, f1-score: 0.7398\n",
            "threshold_image: 6.5, threshold_text: 0.86, f1-score: 0.7402\n",
            "threshold_image: 6.5, threshold_text: 0.87, f1-score: 0.7397\n",
            "threshold_image: 6.6, threshold_text: 0.8, f1-score: 0.736\n",
            "threshold_image: 6.6, threshold_text: 0.81, f1-score: 0.7367\n",
            "threshold_image: 6.6, threshold_text: 0.82, f1-score: 0.7372\n",
            "threshold_image: 6.6, threshold_text: 0.83, f1-score: 0.7382\n",
            "threshold_image: 6.6, threshold_text: 0.84, f1-score: 0.7385\n",
            "threshold_image: 6.6, threshold_text: 0.85, f1-score: 0.7393\n",
            "threshold_image: 6.6, threshold_text: 0.86, f1-score: 0.7396\n",
            "threshold_image: 6.6, threshold_text: 0.87, f1-score: 0.7391\n",
            "threshold_image: 6.7, threshold_text: 0.8, f1-score: 0.7355\n",
            "threshold_image: 6.7, threshold_text: 0.81, f1-score: 0.7362\n",
            "threshold_image: 6.7, threshold_text: 0.82, f1-score: 0.7367\n",
            "threshold_image: 6.7, threshold_text: 0.83, f1-score: 0.7376\n",
            "threshold_image: 6.7, threshold_text: 0.84, f1-score: 0.738\n",
            "threshold_image: 6.7, threshold_text: 0.85, f1-score: 0.7387\n",
            "threshold_image: 6.7, threshold_text: 0.86, f1-score: 0.739\n",
            "threshold_image: 6.7, threshold_text: 0.87, f1-score: 0.7385\n",
            "threshold_image: 6.8, threshold_text: 0.8, f1-score: 0.7353\n",
            "threshold_image: 6.8, threshold_text: 0.81, f1-score: 0.736\n",
            "threshold_image: 6.8, threshold_text: 0.82, f1-score: 0.7365\n",
            "threshold_image: 6.8, threshold_text: 0.83, f1-score: 0.7374\n",
            "threshold_image: 6.8, threshold_text: 0.84, f1-score: 0.7377\n",
            "threshold_image: 6.8, threshold_text: 0.85, f1-score: 0.7384\n",
            "threshold_image: 6.8, threshold_text: 0.86, f1-score: 0.7387\n",
            "threshold_image: 6.8, threshold_text: 0.87, f1-score: 0.7381\n",
            "threshold_image: 6.9, threshold_text: 0.8, f1-score: 0.735\n",
            "threshold_image: 6.9, threshold_text: 0.81, f1-score: 0.7357\n",
            "threshold_image: 6.9, threshold_text: 0.82, f1-score: 0.7362\n",
            "threshold_image: 6.9, threshold_text: 0.83, f1-score: 0.737\n",
            "threshold_image: 6.9, threshold_text: 0.84, f1-score: 0.7373\n",
            "threshold_image: 6.9, threshold_text: 0.85, f1-score: 0.738\n",
            "threshold_image: 6.9, threshold_text: 0.86, f1-score: 0.7382\n",
            "threshold_image: 6.9, threshold_text: 0.87, f1-score: 0.7377\n",
            "The best thresholds are (6.5, 0.86), yield a f1-score of 0.7401757771996769\n"
          ],
          "name": "stdout"
        }
      ]
    }
  ]
}