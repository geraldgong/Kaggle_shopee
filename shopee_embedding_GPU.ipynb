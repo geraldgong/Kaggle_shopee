{
  "nbformat": 4,
  "nbformat_minor": 0,
  "metadata": {
    "kernelspec": {
      "name": "python3",
      "display_name": "Python 3"
    },
    "toc": {
      "base_numbering": 1,
      "nav_menu": {},
      "number_sections": true,
      "sideBar": true,
      "skip_h1_title": false,
      "title_cell": "Table of Contents",
      "title_sidebar": "Contents",
      "toc_cell": false,
      "toc_position": {},
      "toc_section_display": true,
      "toc_window_display": false
    },
    "varInspector": {
      "cols": {
        "lenName": 16,
        "lenType": 16,
        "lenVar": 40
      },
      "kernels_config": {
        "python": {
          "delete_cmd_postfix": "",
          "delete_cmd_prefix": "del ",
          "library": "var_list.py",
          "varRefreshCmd": "print(var_dic_list())"
        },
        "r": {
          "delete_cmd_postfix": ") ",
          "delete_cmd_prefix": "rm(",
          "library": "var_list.r",
          "varRefreshCmd": "cat(var_dic_list()) "
        }
      },
      "types_to_exclude": [
        "module",
        "function",
        "builtin_function_or_method",
        "instance",
        "_Feature"
      ],
      "window_display": false
    },
    "colab": {
      "name": "shopee_embedding_GPU.ipynb",
      "provenance": []
    },
    "accelerator": "GPU"
  },
  "cells": [
    {
      "cell_type": "code",
      "metadata": {
        "ExecuteTime": {
          "end_time": "2021-03-16T04:40:52.118494Z",
          "start_time": "2021-03-16T04:40:49.807149Z"
        },
        "colab": {
          "base_uri": "https://localhost:8080/"
        },
        "id": "QaFaE85xHNj3",
        "outputId": "0ab6fd5b-6f2e-4543-f5da-6d3debc29066"
      },
      "source": [
        "! nvidia-smi"
      ],
      "execution_count": 110,
      "outputs": [
        {
          "output_type": "stream",
          "text": [
            "Tue Mar 16 14:33:41 2021       \n",
            "+-----------------------------------------------------------------------------+\n",
            "| NVIDIA-SMI 460.56       Driver Version: 460.32.03    CUDA Version: 11.2     |\n",
            "|-------------------------------+----------------------+----------------------+\n",
            "| GPU  Name        Persistence-M| Bus-Id        Disp.A | Volatile Uncorr. ECC |\n",
            "| Fan  Temp  Perf  Pwr:Usage/Cap|         Memory-Usage | GPU-Util  Compute M. |\n",
            "|                               |                      |               MIG M. |\n",
            "|===============================+======================+======================|\n",
            "|   0  Tesla T4            Off  | 00000000:00:04.0 Off |                    0 |\n",
            "| N/A   75C    P0    34W /  70W |  13500MiB / 15109MiB |      0%      Default |\n",
            "|                               |                      |                  N/A |\n",
            "+-------------------------------+----------------------+----------------------+\n",
            "                                                                               \n",
            "+-----------------------------------------------------------------------------+\n",
            "| Processes:                                                                  |\n",
            "|  GPU   GI   CI        PID   Type   Process name                  GPU Memory |\n",
            "|        ID   ID                                                   Usage      |\n",
            "|=============================================================================|\n",
            "+-----------------------------------------------------------------------------+\n"
          ],
          "name": "stdout"
        }
      ]
    },
    {
      "cell_type": "code",
      "metadata": {
        "id": "7v5FP7khdHyM"
      },
      "source": [
        "import numpy as np \n",
        "import pandas as pd\n",
        "import matplotlib.pyplot as plt\n",
        "import gc\n",
        "import pickle\n",
        "import tensorflow as tf\n",
        "from tensorflow.keras import layers, Model\n",
        "from tensorflow.keras.applications import EfficientNetB0\n",
        "from cuml.neighbors import NearestNeighbors\n",
        "from cuml.feature_extraction.text import TfidfVectorizer\n",
        "from scipy import sparse\n",
        "import sys, os\n",
        "\n",
        "dist_package_index = sys.path.index('/usr/local/lib/python3.7/dist-packages')\n",
        "sys.path = sys.path[:dist_package_index] + ['/usr/local/lib/python3.7/site-packages'] + sys.path[dist_package_index:]\n",
        "sys.path\n",
        "exec(open('rapidsai-csp-utils/colab/update_modules.py').read(), globals())\n",
        "import cudf, cuml, cupy, cupyx"
      ],
      "execution_count": null,
      "outputs": []
    },
    {
      "cell_type": "code",
      "metadata": {
        "colab": {
          "base_uri": "https://localhost:8080/"
        },
        "id": "JI52xbMDIIiT",
        "outputId": "04303da1-9da9-4482-a696-bbe130caec38"
      },
      "source": [
        "AUTOTUNE = tf.data.experimental.AUTOTUNE\n",
        "SEED = 100\n",
        "BATCH_SIZE =128\n",
        "CHUNK_SIZE = 2048\n",
        "IMAGE_HEIGHT = 224\n",
        "IMAGE_WIDTH = 224\n",
        "\n",
        "physical_devices = tf.config.list_physical_devices('GPU')\n",
        "print(\"Num GPUs:\", len(physical_devices))"
      ],
      "execution_count": 102,
      "outputs": [
        {
          "output_type": "stream",
          "text": [
            "Num GPUs: 1\n"
          ],
          "name": "stdout"
        }
      ]
    },
    {
      "cell_type": "markdown",
      "metadata": {
        "id": "OMjgFzjsHNj4"
      },
      "source": [
        "# Load Data"
      ]
    },
    {
      "cell_type": "code",
      "metadata": {
        "ExecuteTime": {
          "end_time": "2021-03-16T04:40:52.238702Z",
          "start_time": "2021-03-16T04:40:52.232800Z"
        },
        "id": "FE5vX0YWHNj4"
      },
      "source": [
        "def preprocess_image(image):\n",
        "    image = tf.image.decode_jpeg(image, channels=3)\n",
        "    image = tf.image.resize(image, [IMAGE_WIDTH, IMAGE_HEIGHT])\n",
        "#     image /= 255  # normalize to [0,1] rangeI'm not a \n",
        "    return image\n",
        "\n",
        "def load_and_preprocess_image(path):\n",
        "    image = tf.io.read_file(path)\n",
        "    return preprocess_image(image)\n",
        "\n",
        "def augmentation(ds):\n",
        "    data_augmentation = tf.keras.Sequential([\n",
        "        tf.keras.layers.experimental.preprocessing.RandomFlip(\"horizontal\"),\n",
        "        layers.experimental.preprocessing.RandomRotation(0.3),\n",
        "#         layers.experimental.preprocessing.RandomTranslation(\n",
        "#             height_factor=(-0.2, 0.2), width_factor=(-0.2, 0.2)),\n",
        "#         layers.experimental.preprocessing.RandomZoom(0.2, 0.2),\n",
        "    ])\n",
        "    \n",
        "    # Batch all datasets\n",
        "    ds = ds.batch(BATCH_SIZE)\n",
        "\n",
        "    # Use data augmentation only on the training set\n",
        "    ds = ds.map(lambda x: data_augmentation(x))\n",
        "\n",
        "    # Prefecting on all datasets\n",
        "    return ds.prefetch(1)\n",
        "\n",
        "def prepare_data(df, augment=False):\n",
        "    # Load images\n",
        "    path_ds = tf.data.Dataset.from_tensor_slices(df['image_paths'])\n",
        "    image_ds = path_ds.map(load_and_preprocess_image, num_parallel_calls=AUTOTUNE)\n",
        "\n",
        "    if augment:\n",
        "        ds = augmentation(image_ds)\n",
        "    else:\n",
        "        ds = image_ds.batch(BATCH_SIZE).prefetch(1)\n",
        "    \n",
        "    return ds"
      ],
      "execution_count": 103,
      "outputs": []
    },
    {
      "cell_type": "code",
      "metadata": {
        "ExecuteTime": {
          "end_time": "2021-03-16T04:40:53.985810Z",
          "start_time": "2021-03-16T04:40:53.787794Z"
        },
        "id": "G6RxdoM8HNj5"
      },
      "source": [
        "load_dir = os.getcwd() + '/data_shopee' #'/kaggle/input/ranzcr-clip-catheter-line-classification'\n",
        "\n",
        "# Load and process images\n",
        "df_train = pd.read_csv(load_dir + '/train.csv')\n",
        "df_train['image_paths'] = load_dir + '/train_images/' + df_train['image'] \n",
        "\n",
        "df_test = pd.read_csv(load_dir + '/test.csv')\n",
        "df_test['image_paths'] = load_dir + '/test_images/' + df_test['image'] \n",
        "\n",
        "train_ds = prepare_data(df_train, augment=False)\n",
        "test_ds = prepare_data(df_test, augment=False)\n",
        "\n",
        "# Ground truth\n",
        "tmp = df_train.groupby('label_group').posting_id.agg('unique').to_dict()\n",
        "df_train['target'] = df_train.label_group.map(tmp)\n",
        "\n",
        "# load as cudf\n",
        "cudf_train = cudf.read_csv(load_dir + '/train.csv')\n",
        "cudf_test = cudf.read_csv(load_dir + '/test.csv')"
      ],
      "execution_count": 104,
      "outputs": []
    },
    {
      "cell_type": "markdown",
      "metadata": {
        "id": "zXaljqr3HNj7"
      },
      "source": [
        "# Image embedding"
      ]
    },
    {
      "cell_type": "code",
      "metadata": {
        "ExecuteTime": {
          "end_time": "2021-03-16T04:41:06.733717Z",
          "start_time": "2021-03-16T04:41:02.766627Z"
        },
        "colab": {
          "base_uri": "https://localhost:8080/"
        },
        "id": "xM8NdT77HNj7",
        "outputId": "0631c72c-8434-4c41-da09-70de865aa005"
      },
      "source": [
        "model = EfficientNetB0(weights='imagenet', include_top=False, pooling='avg', input_shape=None)\n",
        "train_embeddings_image = model.predict(train_ds, verbose=1)\n",
        "\n",
        "del model\n",
        "_ = gc.collect()"
      ],
      "execution_count": 105,
      "outputs": [
        {
          "output_type": "stream",
          "text": [
            "268/268 [==============================] - 103s 378ms/step\n"
          ],
          "name": "stdout"
        }
      ]
    },
    {
      "cell_type": "markdown",
      "metadata": {
        "id": "zHdxdeptHNj8"
      },
      "source": [
        "## K-Nearest Neighbors"
      ]
    },
    {
      "cell_type": "code",
      "metadata": {
        "ExecuteTime": {
          "end_time": "2021-03-16T04:41:15.692294Z",
          "start_time": "2021-03-16T04:41:11.434909Z"
        },
        "colab": {
          "base_uri": "https://localhost:8080/"
        },
        "id": "JLDge51aHNj9",
        "outputId": "39161d0f-5552-4c8a-a703-e3d38bce4099"
      },
      "source": [
        "knn = NearestNeighbors(n_neighbors=50)\n",
        "knn.fit(train_embeddings_image)"
      ],
      "execution_count": 106,
      "outputs": [
        {
          "output_type": "execute_result",
          "data": {
            "text/plain": [
              "NearestNeighbors(n_neighbors=50, verbose=4, handle=<cuml.raft.common.handle.Handle object at 0x7fb9b01cd950>, algorithm='brute', metric='euclidean', p=2, algo_params=None, metric_params=None, output_type='input')"
            ]
          },
          "metadata": {
            "tags": []
          },
          "execution_count": 106
        }
      ]
    },
    {
      "cell_type": "code",
      "metadata": {
        "id": "s6Sg9w4PSDbJ",
        "outputId": "93c686fb-e379-423f-d951-e2368917c20c",
        "colab": {
          "base_uri": "https://localhost:8080/"
        }
      },
      "source": [
        "image_index = []\n",
        "\n",
        "for i in range(int(np.ceil(len(df_train) / CHUNK_SIZE))):\n",
        "    start_idx = i * CHUNK_SIZE\n",
        "    end_idx = min((i + 1) * CHUNK_SIZE, len(df_train))\n",
        "    print('Chunk', start_idx, 'to', end_idx)\n",
        "\n",
        "    dist, idx = knn.kneighbors(train_embeddings_image[start_idx:end_idx, :])\n",
        "    counts = (dist < 7).sum(axis=1)\n",
        "    chunk_index = [idx[i, :counts[i]].tolist() for i in range(end_idx - start_idx)]\n",
        "    image_index += chunk_index\n",
        "  \n",
        "del train_embeddings_image, dist, idx, counts, chunk_index, knn\n",
        "gc.collect()"
      ],
      "execution_count": 107,
      "outputs": [
        {
          "output_type": "stream",
          "text": [
            "Chunk 0 to 2048\n",
            "Chunk 2048 to 4096\n",
            "Chunk 4096 to 6144\n",
            "Chunk 6144 to 8192\n",
            "Chunk 8192 to 10240\n",
            "Chunk 10240 to 12288\n",
            "Chunk 12288 to 14336\n",
            "Chunk 14336 to 16384\n",
            "Chunk 16384 to 18432\n",
            "Chunk 18432 to 20480\n",
            "Chunk 20480 to 22528\n",
            "Chunk 22528 to 24576\n",
            "Chunk 24576 to 26624\n",
            "Chunk 26624 to 28672\n",
            "Chunk 28672 to 30720\n",
            "Chunk 30720 to 32768\n",
            "Chunk 32768 to 34250\n"
          ],
          "name": "stdout"
        },
        {
          "output_type": "execute_result",
          "data": {
            "text/plain": [
              "19"
            ]
          },
          "metadata": {
            "tags": []
          },
          "execution_count": 107
        }
      ]
    },
    {
      "cell_type": "markdown",
      "metadata": {
        "ExecuteTime": {
          "end_time": "2021-03-11T19:18:57.230025Z",
          "start_time": "2021-03-11T19:18:57.226395Z"
        },
        "id": "ffbllOgsHNj-"
      },
      "source": [
        "# Text Embedding"
      ]
    },
    {
      "cell_type": "code",
      "metadata": {
        "ExecuteTime": {
          "end_time": "2021-03-16T09:26:48.102224Z",
          "start_time": "2021-03-16T09:26:36.933854Z"
        },
        "colab": {
          "base_uri": "https://localhost:8080/",
          "height": 426
        },
        "id": "GgS7T_DhHNj-",
        "outputId": "fddc2a09-1e4f-4201-f5c4-0005c17490a8"
      },
      "source": [
        "model_text = TfidfVectorizer(stop_words='english', binary=True, max_features=25000)\n",
        "text_embeddings = model_text.fit_transform(cudf_train.title).toarray()"
      ],
      "execution_count": 108,
      "outputs": [
        {
          "output_type": "error",
          "ename": "MemoryError",
          "evalue": "ignored",
          "traceback": [
            "\u001b[0;31m---------------------------------------------------------------------------\u001b[0m",
            "\u001b[0;31mMemoryError\u001b[0m                               Traceback (most recent call last)",
            "\u001b[0;32m<ipython-input-108-7103f7c368b2>\u001b[0m in \u001b[0;36m<module>\u001b[0;34m()\u001b[0m\n\u001b[1;32m      1\u001b[0m \u001b[0mmodel_text\u001b[0m \u001b[0;34m=\u001b[0m \u001b[0mTfidfVectorizer\u001b[0m\u001b[0;34m(\u001b[0m\u001b[0mstop_words\u001b[0m\u001b[0;34m=\u001b[0m\u001b[0;34m'english'\u001b[0m\u001b[0;34m,\u001b[0m \u001b[0mbinary\u001b[0m\u001b[0;34m=\u001b[0m\u001b[0;32mTrue\u001b[0m\u001b[0;34m,\u001b[0m \u001b[0mmax_features\u001b[0m\u001b[0;34m=\u001b[0m\u001b[0;36m25000\u001b[0m\u001b[0;34m)\u001b[0m\u001b[0;34m\u001b[0m\u001b[0;34m\u001b[0m\u001b[0m\n\u001b[0;32m----> 2\u001b[0;31m \u001b[0mtext_embeddings\u001b[0m \u001b[0;34m=\u001b[0m \u001b[0mmodel_text\u001b[0m\u001b[0;34m.\u001b[0m\u001b[0mfit_transform\u001b[0m\u001b[0;34m(\u001b[0m\u001b[0mcudf_train\u001b[0m\u001b[0;34m.\u001b[0m\u001b[0mtitle\u001b[0m\u001b[0;34m)\u001b[0m\u001b[0;34m.\u001b[0m\u001b[0mtoarray\u001b[0m\u001b[0;34m(\u001b[0m\u001b[0;34m)\u001b[0m\u001b[0;34m\u001b[0m\u001b[0;34m\u001b[0m\u001b[0m\n\u001b[0m",
            "\u001b[0;32m/usr/local/lib/python3.7/site-packages/cupyx/scipy/sparse/csr.py\u001b[0m in \u001b[0;36mtoarray\u001b[0;34m(self, order, out)\u001b[0m\n\u001b[1;32m    353\u001b[0m         \u001b[0;32mif\u001b[0m \u001b[0morder\u001b[0m \u001b[0;34m==\u001b[0m \u001b[0;34m'C'\u001b[0m\u001b[0;34m:\u001b[0m\u001b[0;34m\u001b[0m\u001b[0;34m\u001b[0m\u001b[0m\n\u001b[1;32m    354\u001b[0m             \u001b[0;31m# To return C-contiguous array, it uses transpose.\u001b[0m\u001b[0;34m\u001b[0m\u001b[0;34m\u001b[0m\u001b[0;34m\u001b[0m\u001b[0m\n\u001b[0;32m--> 355\u001b[0;31m             \u001b[0;32mreturn\u001b[0m \u001b[0mcusparse\u001b[0m\u001b[0;34m.\u001b[0m\u001b[0mcsc2dense\u001b[0m\u001b[0;34m(\u001b[0m\u001b[0mx\u001b[0m\u001b[0;34m.\u001b[0m\u001b[0mT\u001b[0m\u001b[0;34m)\u001b[0m\u001b[0;34m.\u001b[0m\u001b[0mT\u001b[0m\u001b[0;34m\u001b[0m\u001b[0;34m\u001b[0m\u001b[0m\n\u001b[0m\u001b[1;32m    356\u001b[0m         \u001b[0;32melif\u001b[0m \u001b[0morder\u001b[0m \u001b[0;34m==\u001b[0m \u001b[0;34m'F'\u001b[0m\u001b[0;34m:\u001b[0m\u001b[0;34m\u001b[0m\u001b[0;34m\u001b[0m\u001b[0m\n\u001b[1;32m    357\u001b[0m             \u001b[0;32mreturn\u001b[0m \u001b[0mcusparse\u001b[0m\u001b[0;34m.\u001b[0m\u001b[0mcsr2dense\u001b[0m\u001b[0;34m(\u001b[0m\u001b[0mx\u001b[0m\u001b[0;34m)\u001b[0m\u001b[0;34m\u001b[0m\u001b[0;34m\u001b[0m\u001b[0m\n",
            "\u001b[0;32m/usr/local/lib/python3.7/site-packages/cupy/cusparse.py\u001b[0m in \u001b[0;36mcsc2dense\u001b[0;34m(x, out)\u001b[0m\n\u001b[1;32m    758\u001b[0m     \u001b[0;32massert\u001b[0m \u001b[0mdtype\u001b[0m\u001b[0;34m.\u001b[0m\u001b[0mchar\u001b[0m \u001b[0;32min\u001b[0m \u001b[0;34m'fdFD'\u001b[0m\u001b[0;34m\u001b[0m\u001b[0;34m\u001b[0m\u001b[0m\n\u001b[1;32m    759\u001b[0m     \u001b[0;32mif\u001b[0m \u001b[0mout\u001b[0m \u001b[0;32mis\u001b[0m \u001b[0;32mNone\u001b[0m\u001b[0;34m:\u001b[0m\u001b[0;34m\u001b[0m\u001b[0;34m\u001b[0m\u001b[0m\n\u001b[0;32m--> 760\u001b[0;31m         \u001b[0mout\u001b[0m \u001b[0;34m=\u001b[0m \u001b[0m_cupy\u001b[0m\u001b[0;34m.\u001b[0m\u001b[0mempty\u001b[0m\u001b[0;34m(\u001b[0m\u001b[0mx\u001b[0m\u001b[0;34m.\u001b[0m\u001b[0mshape\u001b[0m\u001b[0;34m,\u001b[0m \u001b[0mdtype\u001b[0m\u001b[0;34m=\u001b[0m\u001b[0mdtype\u001b[0m\u001b[0;34m,\u001b[0m \u001b[0morder\u001b[0m\u001b[0;34m=\u001b[0m\u001b[0;34m'F'\u001b[0m\u001b[0;34m)\u001b[0m\u001b[0;34m\u001b[0m\u001b[0;34m\u001b[0m\u001b[0m\n\u001b[0m\u001b[1;32m    761\u001b[0m     \u001b[0;32melse\u001b[0m\u001b[0;34m:\u001b[0m\u001b[0;34m\u001b[0m\u001b[0;34m\u001b[0m\u001b[0m\n\u001b[1;32m    762\u001b[0m         \u001b[0;32massert\u001b[0m \u001b[0mout\u001b[0m\u001b[0;34m.\u001b[0m\u001b[0mflags\u001b[0m\u001b[0;34m.\u001b[0m\u001b[0mf_contiguous\u001b[0m\u001b[0;34m\u001b[0m\u001b[0;34m\u001b[0m\u001b[0m\n",
            "\u001b[0;32m/usr/local/lib/python3.7/site-packages/cupy/_creation/basic.py\u001b[0m in \u001b[0;36mempty\u001b[0;34m(shape, dtype, order)\u001b[0m\n\u001b[1;32m     20\u001b[0m \u001b[0;34m\u001b[0m\u001b[0m\n\u001b[1;32m     21\u001b[0m     \"\"\"\n\u001b[0;32m---> 22\u001b[0;31m     \u001b[0;32mreturn\u001b[0m \u001b[0mcupy\u001b[0m\u001b[0;34m.\u001b[0m\u001b[0mndarray\u001b[0m\u001b[0;34m(\u001b[0m\u001b[0mshape\u001b[0m\u001b[0;34m,\u001b[0m \u001b[0mdtype\u001b[0m\u001b[0;34m,\u001b[0m \u001b[0morder\u001b[0m\u001b[0;34m=\u001b[0m\u001b[0morder\u001b[0m\u001b[0;34m)\u001b[0m\u001b[0;34m\u001b[0m\u001b[0;34m\u001b[0m\u001b[0m\n\u001b[0m\u001b[1;32m     23\u001b[0m \u001b[0;34m\u001b[0m\u001b[0m\n\u001b[1;32m     24\u001b[0m \u001b[0;34m\u001b[0m\u001b[0m\n",
            "\u001b[0;32mcupy/core/core.pyx\u001b[0m in \u001b[0;36mcupy.core.core.ndarray.__init__\u001b[0;34m()\u001b[0m\n",
            "\u001b[0;32mcupy/cuda/memory.pyx\u001b[0m in \u001b[0;36mcupy.cuda.memory.alloc\u001b[0;34m()\u001b[0m\n",
            "\u001b[0;32m/usr/local/lib/python3.7/site-packages/rmm/rmm.py\u001b[0m in \u001b[0;36mrmm_cupy_allocator\u001b[0;34m(nbytes)\u001b[0m\n\u001b[1;32m    194\u001b[0m         \u001b[0;32mraise\u001b[0m \u001b[0mModuleNotFoundError\u001b[0m\u001b[0;34m(\u001b[0m\u001b[0;34m\"No module named 'cupy'\"\u001b[0m\u001b[0;34m)\u001b[0m\u001b[0;34m\u001b[0m\u001b[0;34m\u001b[0m\u001b[0m\n\u001b[1;32m    195\u001b[0m \u001b[0;34m\u001b[0m\u001b[0m\n\u001b[0;32m--> 196\u001b[0;31m     \u001b[0mbuf\u001b[0m \u001b[0;34m=\u001b[0m \u001b[0mlibrmm\u001b[0m\u001b[0;34m.\u001b[0m\u001b[0mdevice_buffer\u001b[0m\u001b[0;34m.\u001b[0m\u001b[0mDeviceBuffer\u001b[0m\u001b[0;34m(\u001b[0m\u001b[0msize\u001b[0m\u001b[0;34m=\u001b[0m\u001b[0mnbytes\u001b[0m\u001b[0;34m)\u001b[0m\u001b[0;34m\u001b[0m\u001b[0;34m\u001b[0m\u001b[0m\n\u001b[0m\u001b[1;32m    197\u001b[0m     \u001b[0mdev_id\u001b[0m \u001b[0;34m=\u001b[0m \u001b[0;34m-\u001b[0m\u001b[0;36m1\u001b[0m \u001b[0;32mif\u001b[0m \u001b[0mbuf\u001b[0m\u001b[0;34m.\u001b[0m\u001b[0mptr\u001b[0m \u001b[0;32melse\u001b[0m \u001b[0mcupy\u001b[0m\u001b[0;34m.\u001b[0m\u001b[0mcuda\u001b[0m\u001b[0;34m.\u001b[0m\u001b[0mdevice\u001b[0m\u001b[0;34m.\u001b[0m\u001b[0mget_device_id\u001b[0m\u001b[0;34m(\u001b[0m\u001b[0;34m)\u001b[0m\u001b[0;34m\u001b[0m\u001b[0;34m\u001b[0m\u001b[0m\n\u001b[1;32m    198\u001b[0m     mem = cupy.cuda.UnownedMemory(\n",
            "\u001b[0;32mrmm/_lib/device_buffer.pyx\u001b[0m in \u001b[0;36mrmm._lib.device_buffer.DeviceBuffer.__cinit__\u001b[0;34m()\u001b[0m\n",
            "\u001b[0;31mMemoryError\u001b[0m: std::bad_alloc: CUDA error at: /usr/local/include/rmm/mr/device/cuda_memory_resource.hpp:69: cudaErrorMemoryAllocation out of memory"
          ]
        }
      ]
    },
    {
      "cell_type": "code",
      "metadata": {
        "id": "rzHjjO-YUccz"
      },
      "source": [
        "cudf_train.title"
      ],
      "execution_count": null,
      "outputs": []
    },
    {
      "cell_type": "code",
      "metadata": {
        "ExecuteTime": {
          "end_time": "2021-03-16T09:26:50.949557Z",
          "start_time": "2021-03-16T09:26:50.946001Z"
        },
        "id": "jG78wg9zHNj-"
      },
      "source": [
        "def cos_sim(A, B):\n",
        "    num = np.dot(A, B.T)\n",
        "    p1 = np.sqrt(np.sum(A.power(2), axis=1))\n",
        "    p2 = np.sqrt(np.sum(B.power(2), axis=1)).T\n",
        "\n",
        "    return num / (p1 * p2)"
      ],
      "execution_count": null,
      "outputs": []
    },
    {
      "cell_type": "code",
      "metadata": {
        "ExecuteTime": {
          "end_time": "2021-03-16T09:27:25.259552Z",
          "start_time": "2021-03-16T09:26:53.807831Z"
        },
        "id": "Xx8y4mGdHNj_",
        "outputId": "2b97af23-f44b-45de-b89d-58f9b52c513c"
      },
      "source": [
        "%memit\n",
        "text_index = []\n",
        "\n",
        "for i in range(np.ceil(len(df_train) / CHUNK_SIZE)):\n",
        "    start_idx = i * CHUNK_SIZE\n",
        "    end_idx = min((i + 1) * CHUNK_SIZE, len(df_train))\n",
        "    print('Chunk', start_idx, 'to', end_idx)\n",
        "\n",
        "    sim_chunk = cos_sim(text_embeddings, text_embeddings[start_idx:end_idx, :]).T\n",
        "    r, c = np.where(sim_chunk > 0.7)\n",
        "    text_index += np.split(c, np.flatnonzero(r[1:] != r[:-1])+1)\n",
        "\n",
        "del sim_chunk, r, c, text_embeddings\n",
        "_= gc.collect()\n",
        "%memit"
      ],
      "execution_count": null,
      "outputs": [
        {
          "output_type": "stream",
          "text": [
            "peak memory: 2505.50 MiB, increment: 0.00 MiB\n",
            "Chunk 0 to 4096\n",
            "Chunk 4096 to 8192\n",
            "Chunk 8192 to 12288\n",
            "Chunk 12288 to 16384\n",
            "Chunk 16384 to 20480\n",
            "Chunk 20480 to 24576\n",
            "Chunk 24576 to 28672\n",
            "Chunk 28672 to 32768\n",
            "Chunk 32768 to 34250\n",
            "peak memory: 2505.95 MiB, increment: -0.08 MiB\n"
          ],
          "name": "stdout"
        }
      ]
    },
    {
      "cell_type": "code",
      "metadata": {
        "id": "Qj9_GWIPdFG4"
      },
      "source": [
        ""
      ],
      "execution_count": null,
      "outputs": []
    },
    {
      "cell_type": "code",
      "metadata": {
        "id": "k8RZqJD6dGj0"
      },
      "source": [
        ""
      ],
      "execution_count": null,
      "outputs": []
    },
    {
      "cell_type": "markdown",
      "metadata": {
        "id": "HvdFHogvHNj_"
      },
      "source": [
        "# Evaluation"
      ]
    },
    {
      "cell_type": "code",
      "metadata": {
        "ExecuteTime": {
          "end_time": "2021-03-16T09:27:45.120400Z",
          "start_time": "2021-03-16T09:27:28.343971Z"
        },
        "id": "_02DoVZiHNj_",
        "outputId": "dc7988b6-a894-4fae-9dfa-f37015093a52"
      },
      "source": [
        "%memit\n",
        "df_train['matches'] = [\n",
        "    ' '.join(set(df_train['posting_id'][text].tolist() + df_train['posting_id'][image].tolist()))\n",
        "    for text, image in zip(text_index, image_index)\n",
        "]\n",
        "%memit"
      ],
      "execution_count": null,
      "outputs": [
        {
          "output_type": "stream",
          "text": [
            "peak memory: 2506.65 MiB, increment: 0.00 MiB\n",
            "peak memory: 2506.68 MiB, increment: 0.00 MiB\n"
          ],
          "name": "stdout"
        }
      ]
    },
    {
      "cell_type": "code",
      "metadata": {
        "ExecuteTime": {
          "end_time": "2021-03-16T09:27:48.411948Z",
          "start_time": "2021-03-16T09:27:48.245056Z"
        },
        "id": "mkgxWwqrHNj_",
        "outputId": "7cbfc72e-b57d-490d-dfd4-c750bbb6f413"
      },
      "source": [
        "def row_wise_f1_score(y_true, y_pred):\n",
        "\n",
        "    y_true = y_true.apply(lambda x: set(x))\n",
        "    y_pred = y_pred.apply(lambda x: set(x.split()))\n",
        "\n",
        "    tp = np.array([len(x[0] & x[1]) for x in zip(y_true, y_pred)])\n",
        "    fp = y_pred.apply(lambda x: len(x)).values - tp\n",
        "    fn = y_true.apply(lambda x: len(x)).values - tp\n",
        "\n",
        "    precision = tp / (tp + fp)\n",
        "    recall = tp / (tp + fn)\n",
        "    f1 = 2 * ((precision * recall) / (precision + recall))\n",
        "    return f1\n",
        "\n",
        "df_train['f1'] = row_wise_f1_score(df_train['target'], df_train['matches'])\n",
        "df_train['f1'].mean()"
      ],
      "execution_count": null,
      "outputs": [
        {
          "output_type": "execute_result",
          "data": {
            "text/plain": [
              "0.72503026259278"
            ]
          },
          "metadata": {
            "tags": []
          },
          "execution_count": 57
        }
      ]
    },
    {
      "cell_type": "markdown",
      "metadata": {
        "id": "p2HXapeuHNkA"
      },
      "source": [
        "# Submission"
      ]
    },
    {
      "cell_type": "code",
      "metadata": {
        "ExecuteTime": {
          "end_time": "2021-03-10T21:29:41.320842Z",
          "start_time": "2021-03-10T21:29:41.311862Z"
        },
        "id": "iett6LwSHNkA",
        "outputId": "20f6ead4-bf1f-4858-f48a-d88b6dc7e116"
      },
      "source": [
        "df_submit = pd.read_csv('./data/sample_submission.csv')\n",
        "df_submit"
      ],
      "execution_count": null,
      "outputs": [
        {
          "output_type": "execute_result",
          "data": {
            "text/html": [
              "<div>\n",
              "<style scoped>\n",
              "    .dataframe tbody tr th:only-of-type {\n",
              "        vertical-align: middle;\n",
              "    }\n",
              "\n",
              "    .dataframe tbody tr th {\n",
              "        vertical-align: top;\n",
              "    }\n",
              "\n",
              "    .dataframe thead th {\n",
              "        text-align: right;\n",
              "    }\n",
              "</style>\n",
              "<table border=\"1\" class=\"dataframe\">\n",
              "  <thead>\n",
              "    <tr style=\"text-align: right;\">\n",
              "      <th></th>\n",
              "      <th>posting_id</th>\n",
              "      <th>matches</th>\n",
              "    </tr>\n",
              "  </thead>\n",
              "  <tbody>\n",
              "    <tr>\n",
              "      <th>0</th>\n",
              "      <td>test_2255846744</td>\n",
              "      <td>test_2255846744</td>\n",
              "    </tr>\n",
              "    <tr>\n",
              "      <th>1</th>\n",
              "      <td>test_3588702337</td>\n",
              "      <td>test_3588702337</td>\n",
              "    </tr>\n",
              "    <tr>\n",
              "      <th>2</th>\n",
              "      <td>test_4015706929</td>\n",
              "      <td>test_4015706929</td>\n",
              "    </tr>\n",
              "  </tbody>\n",
              "</table>\n",
              "</div>"
            ],
            "text/plain": [
              "        posting_id          matches\n",
              "0  test_2255846744  test_2255846744\n",
              "1  test_3588702337  test_3588702337\n",
              "2  test_4015706929  test_4015706929"
            ]
          },
          "metadata": {
            "tags": []
          },
          "execution_count": 119
        }
      ]
    },
    {
      "cell_type": "code",
      "metadata": {
        "ExecuteTime": {
          "end_time": "2021-03-10T21:39:01.331771Z",
          "start_time": "2021-03-10T21:39:01.326078Z"
        },
        "id": "-Gw8C0pSHNkA",
        "outputId": "845cc92c-4efa-4083-9d78-ac603d7bbf62"
      },
      "source": [
        "df_submit.to_csv('submission.csv', index=False)"
      ],
      "execution_count": null,
      "outputs": [
        {
          "output_type": "execute_result",
          "data": {
            "text/html": [
              "<div>\n",
              "<style scoped>\n",
              "    .dataframe tbody tr th:only-of-type {\n",
              "        vertical-align: middle;\n",
              "    }\n",
              "\n",
              "    .dataframe tbody tr th {\n",
              "        vertical-align: top;\n",
              "    }\n",
              "\n",
              "    .dataframe thead th {\n",
              "        text-align: right;\n",
              "    }\n",
              "</style>\n",
              "<table border=\"1\" class=\"dataframe\">\n",
              "  <thead>\n",
              "    <tr style=\"text-align: right;\">\n",
              "      <th></th>\n",
              "      <th>posting_id</th>\n",
              "      <th>matches</th>\n",
              "    </tr>\n",
              "  </thead>\n",
              "  <tbody>\n",
              "    <tr>\n",
              "      <th>0</th>\n",
              "      <td>test_2255846744</td>\n",
              "      <td>test_2255846744 test_4015706929 test_3588702337</td>\n",
              "    </tr>\n",
              "    <tr>\n",
              "      <th>1</th>\n",
              "      <td>test_3588702337</td>\n",
              "      <td>test_3588702337 test_4015706929 test_2255846744</td>\n",
              "    </tr>\n",
              "    <tr>\n",
              "      <th>2</th>\n",
              "      <td>test_4015706929</td>\n",
              "      <td>test_4015706929 test_2255846744 test_3588702337</td>\n",
              "    </tr>\n",
              "  </tbody>\n",
              "</table>\n",
              "</div>"
            ],
            "text/plain": [
              "        posting_id                                          matches\n",
              "0  test_2255846744  test_2255846744 test_4015706929 test_3588702337\n",
              "1  test_3588702337  test_3588702337 test_4015706929 test_2255846744\n",
              "2  test_4015706929  test_4015706929 test_2255846744 test_3588702337"
            ]
          },
          "metadata": {
            "tags": []
          },
          "execution_count": 137
        }
      ]
    }
  ]
}